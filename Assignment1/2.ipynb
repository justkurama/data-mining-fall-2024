{
 "cells": [
  {
   "cell_type": "code",
   "execution_count": null,
   "metadata": {},
   "outputs": [],
   "source": [
    "import pandas as pd\n",
    "import numpy as np\n",
    "\n",
    "# Sample dataset\n",
    "data = {\n",
    "    'A': [1, 2, np.nan, 4, 5],\n",
    "    'B': [np.nan, 2, 3, np.nan, 5],\n",
    "    'C': [1, np.nan, np.nan, 4, 5]\n",
    "}\n",
    "\n",
    "df = pd.DataFrame(data)\n",
    "\n",
    "# Identify missing values\n",
    "print(\"Missing values in each column:\")\n",
    "print(df.isnull().sum())\n",
    "\n",
    "# Remove rows with missing values\n",
    "df_dropna = df.dropna()\n",
    "print(\"\\nDataFrame after dropping rows with missing values:\")\n",
    "print(df_dropna)\n",
    "\n",
    "# Fill missing values with the mean\n",
    "df_fillna_mean = df.fillna(df.mean())\n",
    "print(\"\\nDataFrame after filling missing values with the mean:\")\n",
    "print(df_fillna_mean)\n",
    "\n",
    "# Fill missing values with the median\n",
    "df_fillna_median = df.fillna(df.median())\n",
    "print(\"\\nDataFrame after filling missing values with the median:\")\n",
    "print(df_fillna_median)\n",
    "\n",
    "# Fill missing values with a specific value (e.g., 0)\n",
    "df_fillna_value = df.fillna(0)\n",
    "print(\"\\nDataFrame after filling missing values with 0:\")\n",
    "print(df_fillna_value)\n",
    "\n",
    "# Forward fill (ffill)\n",
    "df_ffill = df.ffill()\n",
    "print(\"\\nDataFrame after forward filling missing values:\")\n",
    "print(df_ffill)\n",
    "\n",
    "# Backward fill (bfill)\n",
    "df_bfill = df.bfill()\n",
    "print(\"\\nDataFrame after backward filling missing values:\")\n",
    "print(df_bfill)"
   ]
  }
 ],
 "metadata": {
  "language_info": {
   "name": "python"
  }
 },
 "nbformat": 4,
 "nbformat_minor": 2
}

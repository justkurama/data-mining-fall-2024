{
 "cells": [
  {
   "cell_type": "code",
   "execution_count": 2,
   "metadata": {},
   "outputs": [
    {
     "name": "stdout",
     "output_type": "stream",
     "text": [
      "New features created and saved to cereal_modified.csv\n"
     ]
    }
   ],
   "source": [
    "import pandas as pd\n",
    "\n",
    "# Load the dataset\n",
    "file_path = 'cereal.csv'\n",
    "cereal_df = pd.read_csv(file_path)\n",
    "\n",
    "# Create new features\n",
    "# Example: Interaction term between protein and fiber\n",
    "cereal_df['protein_fiber_interaction'] = cereal_df['protein'] * cereal_df['fiber']\n",
    "\n",
    "# Example: Polynomial feature of sugars\n",
    "cereal_df['sugars_squared'] = cereal_df['sugars'] ** 2\n",
    "\n",
    "# Example: Ratio of carbohydrates to protein\n",
    "cereal_df['carbo_protein_ratio'] = cereal_df['carbo'] / (cereal_df['protein'] + 1e-5)  # Adding a small value to avoid division by zero\n",
    "\n",
    "# Example: Total macronutrients (protein + fat + carbo)\n",
    "cereal_df['total_macronutrients'] = cereal_df['protein'] + cereal_df['fat'] + cereal_df['carbo']\n",
    "\n",
    "# Save the modified dataset to a new CSV file\n",
    "output_file_path = 'cereal_modified.csv'\n",
    "cereal_df.to_csv(output_file_path, index=False)\n",
    "\n",
    "print(\"New features created and saved to\", output_file_path)"
   ]
  }
 ],
 "metadata": {
  "kernelspec": {
   "display_name": "Python 3",
   "language": "python",
   "name": "python3"
  },
  "language_info": {
   "codemirror_mode": {
    "name": "ipython",
    "version": 3
   },
   "file_extension": ".py",
   "mimetype": "text/x-python",
   "name": "python",
   "nbconvert_exporter": "python",
   "pygments_lexer": "ipython3",
   "version": "3.12.3"
  }
 },
 "nbformat": 4,
 "nbformat_minor": 2
}

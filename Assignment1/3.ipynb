{
 "cells": [
  {
   "cell_type": "code",
   "execution_count": 1,
   "metadata": {},
   "outputs": [
    {
     "name": "stdout",
     "output_type": "stream",
     "text": [
      "                        name  calories  protein  fat    sodium     fiber  \\\n",
      "0                  100% Bran  0.181818      0.6  0.2  0.406250  0.714286   \n",
      "1          100% Natural Bran  0.636364      0.4  1.0  0.046875  0.142857   \n",
      "2                   All-Bran  0.181818      0.6  0.2  0.812500  0.642857   \n",
      "3  All-Bran with Extra Fiber  0.000000      0.6  0.0  0.437500  1.000000   \n",
      "4             Almond Delight  0.545455      0.2  0.4  0.625000  0.071429   \n",
      "\n",
      "      carbo  sugars    potass  vitamins  ...  mfr_G  mfr_K  mfr_N  mfr_P  \\\n",
      "0  0.250000  0.4375  0.848943      0.25  ...  False  False   True  False   \n",
      "1  0.375000  0.5625  0.410876      0.00  ...  False  False  False  False   \n",
      "2  0.333333  0.3750  0.969789      0.25  ...  False   True  False  False   \n",
      "3  0.375000  0.0625  1.000000      0.25  ...  False   True  False  False   \n",
      "4  0.625000  0.5625  0.000000      0.25  ...  False  False  False  False   \n",
      "\n",
      "   mfr_Q  mfr_R  type_C  type_H  calories_binned  sodium_binned  \n",
      "0  False  False    True   False                0              2  \n",
      "1   True  False    True   False                3              0  \n",
      "2  False  False    True   False                0              4  \n",
      "3  False  False    True   False                0              2  \n",
      "4  False   True    True   False                2              3  \n",
      "\n",
      "[5 rows x 25 columns]\n"
     ]
    }
   ],
   "source": [
    "import pandas as pd\n",
    "from sklearn.preprocessing import MinMaxScaler\n",
    "# Load the dataset\n",
    "df = pd.read_csv('cereal.csv')\n",
    "\n",
    "# Normalize numerical features using Min-Max scaling\n",
    "numerical_features = ['calories', 'protein', 'fat', 'sodium', 'fiber', 'carbo', 'sugars', 'potass', 'vitamins', 'weight', 'cups', 'rating']\n",
    "min_max_scaler = MinMaxScaler()\n",
    "df[numerical_features] = min_max_scaler.fit_transform(df[numerical_features])\n",
    "\n",
    "# Encode categorical variables using one-hot encoding\n",
    "categorical_features = ['mfr', 'type']\n",
    "df = pd.get_dummies(df, columns=categorical_features)\n",
    "\n",
    "# Bin continuous variables into discrete intervals\n",
    "df['calories_binned'] = pd.cut(df['calories'], bins=5, labels=False)\n",
    "df['sodium_binned'] = pd.cut(df['sodium'], bins=5, labels=False)\n",
    "\n",
    "# Display the transformed dataframe\n",
    "print(df.head())"
   ]
  }
 ],
 "metadata": {
  "kernelspec": {
   "display_name": "Python 3",
   "language": "python",
   "name": "python3"
  },
  "language_info": {
   "codemirror_mode": {
    "name": "ipython",
    "version": 3
   },
   "file_extension": ".py",
   "mimetype": "text/x-python",
   "name": "python",
   "nbconvert_exporter": "python",
   "pygments_lexer": "ipython3",
   "version": "3.12.3"
  }
 },
 "nbformat": 4,
 "nbformat_minor": 2
}

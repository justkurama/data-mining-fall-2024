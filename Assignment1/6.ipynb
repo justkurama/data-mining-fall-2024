{
 "cells": [
  {
   "cell_type": "code",
   "execution_count": 1,
   "metadata": {},
   "outputs": [
    {
     "name": "stdout",
     "output_type": "stream",
     "text": [
      "Train-test split ratio 0.7-0.3:\n",
      "Training set size: 53\n",
      "Testing set size: 24\n",
      "\n",
      "Train-test split ratio 0.8-0.2:\n",
      "Training set size: 61\n",
      "Testing set size: 16\n",
      "\n"
     ]
    }
   ],
   "source": [
    "import pandas as pd\n",
    "from sklearn.model_selection import train_test_split\n",
    "\n",
    "# Load the dataset\n",
    "file_path = 'cereal.csv'\n",
    "data = pd.read_csv(file_path)\n",
    "\n",
    "# Define features and target variable\n",
    "X = data.drop(columns=['rating'])\n",
    "y = data['rating']\n",
    "\n",
    "# Function to split data and print sizes\n",
    "def split_and_print_sizes(X, y, test_size):\n",
    "    X_train, X_test, y_train, y_test = train_test_split(X, y, test_size=test_size, random_state=42)\n",
    "    print(f\"Train-test split ratio {1-test_size}-{test_size}:\")\n",
    "    print(f\"Training set size: {X_train.shape[0]}\")\n",
    "    print(f\"Testing set size: {X_test.shape[0]}\\n\")\n",
    "\n",
    "# Explore different train-test split ratios\n",
    "split_and_print_sizes(X, y, test_size=0.3)  # 70-30 split\n",
    "split_and_print_sizes(X, y, test_size=0.2)  # 80-20 split"
   ]
  }
 ],
 "metadata": {
  "kernelspec": {
   "display_name": "Python 3",
   "language": "python",
   "name": "python3"
  },
  "language_info": {
   "codemirror_mode": {
    "name": "ipython",
    "version": 3
   },
   "file_extension": ".py",
   "mimetype": "text/x-python",
   "name": "python",
   "nbconvert_exporter": "python",
   "pygments_lexer": "ipython3",
   "version": "3.12.3"
  }
 },
 "nbformat": 4,
 "nbformat_minor": 2
}

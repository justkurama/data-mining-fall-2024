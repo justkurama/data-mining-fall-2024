{
 "cells": [
  {
   "cell_type": "code",
   "execution_count": null,
   "metadata": {},
   "outputs": [],
   "source": [
    "import pandas as pd\n",
    "from scipy import stats\n",
    "\n",
    "# Load the data\n",
    "file_path = 'cereal.csv'\n",
    "df = pd.read_csv(file_path)\n",
    "\n",
    "# Step 1: Remove duplicate rows\n",
    "df = df.drop_duplicates()\n",
    "\n",
    "# Step 2: Detect and remove outliers using the Z-score method\n",
    "z_scores = stats.zscore(df.select_dtypes(include=['float64', 'int64']))\n",
    "abs_z_scores = abs(z_scores)\n",
    "filtered_entries = (abs_z_scores < 3).all(axis=1)\n",
    "df = df[filtered_entries]\n",
    "\n",
    "# Step 3: Correct inconsistencies in categorical data\n",
    "# Example: Standardizing manufacturer names\n",
    "df['mfr'] = df['mfr'].str.upper()\n",
    "\n",
    "# Save the cleaned data to a new CSV file\n",
    "cleaned_file_path = 'cleaned_cereal.csv'\n",
    "df.to_csv(cleaned_file_path, index=False)\n",
    "\n",
    "print(\"Data cleaning complete. Cleaned data saved to:\", cleaned_file_path)"
   ]
  }
 ],
 "metadata": {
  "language_info": {
   "name": "python"
  }
 },
 "nbformat": 4,
 "nbformat_minor": 2
}
